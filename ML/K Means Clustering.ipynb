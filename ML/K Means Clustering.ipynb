{
 "cells": [
  {
   "cell_type": "markdown",
   "metadata": {},
   "source": [
    "It is Unsupervised Learning Method"
   ]
  },
  {
   "cell_type": "markdown",
   "metadata": {},
   "source": [
    "1. Goal is to Group / Cluster the observations\n",
    "2. Less Variance within the cluster and more Variance between Clusters\n",
    "3. we measure the observation point with all the centroid, and assign the point to the nearest centroid\n",
    "4. Use Euclidean Distance\n",
    "\n",
    "SKLEARN.CLUSTER.KMEANS"
   ]
  },
  {
   "cell_type": "code",
   "execution_count": 1,
   "metadata": {},
   "outputs": [],
   "source": [
    "import numpy as np\n",
    "import matplotlib.pyplot as plt\n",
    "\n",
    "import pandas as pd\n",
    "import seaborn as sns\n"
   ]
  },
  {
   "cell_type": "code",
   "execution_count": 2,
   "metadata": {},
   "outputs": [],
   "source": [
    "data = pd.read_csv('Data_Set/health_data.csv')"
   ]
  },
  {
   "cell_type": "code",
   "execution_count": 3,
   "metadata": {},
   "outputs": [
    {
     "data": {
      "text/html": [
       "<div>\n",
       "<style scoped>\n",
       "    .dataframe tbody tr th:only-of-type {\n",
       "        vertical-align: middle;\n",
       "    }\n",
       "\n",
       "    .dataframe tbody tr th {\n",
       "        vertical-align: top;\n",
       "    }\n",
       "\n",
       "    .dataframe thead th {\n",
       "        text-align: right;\n",
       "    }\n",
       "</style>\n",
       "<table border=\"1\" class=\"dataframe\">\n",
       "  <thead>\n",
       "    <tr style=\"text-align: right;\">\n",
       "      <th></th>\n",
       "      <th>BIO_SEX</th>\n",
       "      <th>age</th>\n",
       "      <th>TREG1</th>\n",
       "      <th>ALCEVR1</th>\n",
       "      <th>ALCPROBS1</th>\n",
       "      <th>marever1</th>\n",
       "      <th>cocever1</th>\n",
       "      <th>inhever1</th>\n",
       "      <th>cigavail</th>\n",
       "      <th>DEP1</th>\n",
       "      <th>ESTEEM1</th>\n",
       "      <th>VIOL1</th>\n",
       "      <th>PASSIST</th>\n",
       "      <th>DEVIANT1</th>\n",
       "      <th>SCHCONN1</th>\n",
       "      <th>GPA1</th>\n",
       "      <th>EXPEL1</th>\n",
       "      <th>FAMCONCT</th>\n",
       "      <th>PARACTV</th>\n",
       "      <th>PARPRES</th>\n",
       "    </tr>\n",
       "  </thead>\n",
       "  <tbody>\n",
       "    <tr>\n",
       "      <th>0</th>\n",
       "      <td>2.0</td>\n",
       "      <td>NaN</td>\n",
       "      <td>0.0</td>\n",
       "      <td>1.0</td>\n",
       "      <td>2</td>\n",
       "      <td>1</td>\n",
       "      <td>0</td>\n",
       "      <td>0</td>\n",
       "      <td>0.0</td>\n",
       "      <td>10.0</td>\n",
       "      <td>47.0</td>\n",
       "      <td>4.0</td>\n",
       "      <td>0</td>\n",
       "      <td>5.0</td>\n",
       "      <td>NaN</td>\n",
       "      <td>NaN</td>\n",
       "      <td>0.0</td>\n",
       "      <td>24.3</td>\n",
       "      <td>8.0</td>\n",
       "      <td>15.0</td>\n",
       "    </tr>\n",
       "    <tr>\n",
       "      <th>1</th>\n",
       "      <td>2.0</td>\n",
       "      <td>19.427397</td>\n",
       "      <td>1.0</td>\n",
       "      <td>1.0</td>\n",
       "      <td>1</td>\n",
       "      <td>0</td>\n",
       "      <td>0</td>\n",
       "      <td>0</td>\n",
       "      <td>1.0</td>\n",
       "      <td>17.0</td>\n",
       "      <td>35.0</td>\n",
       "      <td>1.0</td>\n",
       "      <td>0</td>\n",
       "      <td>5.0</td>\n",
       "      <td>22.0</td>\n",
       "      <td>2.333333</td>\n",
       "      <td>0.0</td>\n",
       "      <td>23.3</td>\n",
       "      <td>9.0</td>\n",
       "      <td>15.0</td>\n",
       "    </tr>\n",
       "    <tr>\n",
       "      <th>2</th>\n",
       "      <td>1.0</td>\n",
       "      <td>NaN</td>\n",
       "      <td>0.0</td>\n",
       "      <td>0.0</td>\n",
       "      <td>0</td>\n",
       "      <td>0</td>\n",
       "      <td>0</td>\n",
       "      <td>0</td>\n",
       "      <td>0.0</td>\n",
       "      <td>2.0</td>\n",
       "      <td>45.0</td>\n",
       "      <td>0.0</td>\n",
       "      <td>0</td>\n",
       "      <td>1.0</td>\n",
       "      <td>30.0</td>\n",
       "      <td>2.250000</td>\n",
       "      <td>0.0</td>\n",
       "      <td>24.3</td>\n",
       "      <td>3.0</td>\n",
       "      <td>15.0</td>\n",
       "    </tr>\n",
       "    <tr>\n",
       "      <th>3</th>\n",
       "      <td>1.0</td>\n",
       "      <td>20.430137</td>\n",
       "      <td>1.0</td>\n",
       "      <td>0.0</td>\n",
       "      <td>0</td>\n",
       "      <td>1</td>\n",
       "      <td>1</td>\n",
       "      <td>1</td>\n",
       "      <td>1.0</td>\n",
       "      <td>19.0</td>\n",
       "      <td>47.0</td>\n",
       "      <td>4.0</td>\n",
       "      <td>1</td>\n",
       "      <td>4.0</td>\n",
       "      <td>19.0</td>\n",
       "      <td>2.000000</td>\n",
       "      <td>0.0</td>\n",
       "      <td>18.7</td>\n",
       "      <td>6.0</td>\n",
       "      <td>14.0</td>\n",
       "    </tr>\n",
       "    <tr>\n",
       "      <th>4</th>\n",
       "      <td>2.0</td>\n",
       "      <td>NaN</td>\n",
       "      <td>0.0</td>\n",
       "      <td>1.0</td>\n",
       "      <td>0</td>\n",
       "      <td>0</td>\n",
       "      <td>0</td>\n",
       "      <td>0</td>\n",
       "      <td>0.0</td>\n",
       "      <td>6.0</td>\n",
       "      <td>39.0</td>\n",
       "      <td>0.0</td>\n",
       "      <td>0</td>\n",
       "      <td>5.0</td>\n",
       "      <td>32.0</td>\n",
       "      <td>3.000000</td>\n",
       "      <td>0.0</td>\n",
       "      <td>20.0</td>\n",
       "      <td>9.0</td>\n",
       "      <td>6.0</td>\n",
       "    </tr>\n",
       "  </tbody>\n",
       "</table>\n",
       "</div>"
      ],
      "text/plain": [
       "   BIO_SEX        age  TREG1  ALCEVR1  ALCPROBS1  marever1  cocever1  \\\n",
       "0      2.0        NaN    0.0      1.0          2         1         0   \n",
       "1      2.0  19.427397    1.0      1.0          1         0         0   \n",
       "2      1.0        NaN    0.0      0.0          0         0         0   \n",
       "3      1.0  20.430137    1.0      0.0          0         1         1   \n",
       "4      2.0        NaN    0.0      1.0          0         0         0   \n",
       "\n",
       "   inhever1  cigavail  DEP1  ESTEEM1  VIOL1  PASSIST  DEVIANT1  SCHCONN1  \\\n",
       "0         0       0.0  10.0     47.0    4.0        0       5.0       NaN   \n",
       "1         0       1.0  17.0     35.0    1.0        0       5.0      22.0   \n",
       "2         0       0.0   2.0     45.0    0.0        0       1.0      30.0   \n",
       "3         1       1.0  19.0     47.0    4.0        1       4.0      19.0   \n",
       "4         0       0.0   6.0     39.0    0.0        0       5.0      32.0   \n",
       "\n",
       "       GPA1  EXPEL1  FAMCONCT  PARACTV  PARPRES  \n",
       "0       NaN     0.0      24.3      8.0     15.0  \n",
       "1  2.333333     0.0      23.3      9.0     15.0  \n",
       "2  2.250000     0.0      24.3      3.0     15.0  \n",
       "3  2.000000     0.0      18.7      6.0     14.0  \n",
       "4  3.000000     0.0      20.0      9.0      6.0  "
      ]
     },
     "execution_count": 3,
     "metadata": {},
     "output_type": "execute_result"
    }
   ],
   "source": [
    "data.head()"
   ]
  },
  {
   "cell_type": "code",
   "execution_count": 4,
   "metadata": {},
   "outputs": [
    {
     "name": "stdout",
     "output_type": "stream",
     "text": [
      "<class 'pandas.core.frame.DataFrame'>\n",
      "RangeIndex: 6504 entries, 0 to 6503\n",
      "Data columns (total 20 columns):\n",
      "BIO_SEX      6503 non-null float64\n",
      "age          4837 non-null float64\n",
      "TREG1        6500 non-null float64\n",
      "ALCEVR1      6444 non-null float64\n",
      "ALCPROBS1    6504 non-null int64\n",
      "marever1     6504 non-null int64\n",
      "cocever1     6504 non-null int64\n",
      "inhever1     6504 non-null int64\n",
      "cigavail     6444 non-null float64\n",
      "DEP1         6486 non-null float64\n",
      "ESTEEM1      6483 non-null float64\n",
      "VIOL1        6454 non-null float64\n",
      "PASSIST      6504 non-null int64\n",
      "DEVIANT1     6448 non-null float64\n",
      "SCHCONN1     6368 non-null float64\n",
      "GPA1         6274 non-null float64\n",
      "EXPEL1       6486 non-null float64\n",
      "FAMCONCT     6504 non-null float64\n",
      "PARACTV      6477 non-null float64\n",
      "PARPRES      6369 non-null float64\n",
      "dtypes: float64(15), int64(5)\n",
      "memory usage: 1016.3 KB\n"
     ]
    }
   ],
   "source": [
    "data.info()"
   ]
  },
  {
   "cell_type": "code",
   "execution_count": 5,
   "metadata": {},
   "outputs": [
    {
     "data": {
      "text/html": [
       "<div>\n",
       "<style scoped>\n",
       "    .dataframe tbody tr th:only-of-type {\n",
       "        vertical-align: middle;\n",
       "    }\n",
       "\n",
       "    .dataframe tbody tr th {\n",
       "        vertical-align: top;\n",
       "    }\n",
       "\n",
       "    .dataframe thead th {\n",
       "        text-align: right;\n",
       "    }\n",
       "</style>\n",
       "<table border=\"1\" class=\"dataframe\">\n",
       "  <thead>\n",
       "    <tr style=\"text-align: right;\">\n",
       "      <th></th>\n",
       "      <th>BIO_SEX</th>\n",
       "      <th>AGE</th>\n",
       "      <th>TREG1</th>\n",
       "      <th>ALCEVR1</th>\n",
       "      <th>ALCPROBS1</th>\n",
       "      <th>MAREVER1</th>\n",
       "      <th>COCEVER1</th>\n",
       "      <th>INHEVER1</th>\n",
       "      <th>CIGAVAIL</th>\n",
       "      <th>DEP1</th>\n",
       "      <th>ESTEEM1</th>\n",
       "      <th>VIOL1</th>\n",
       "      <th>PASSIST</th>\n",
       "      <th>DEVIANT1</th>\n",
       "      <th>SCHCONN1</th>\n",
       "      <th>GPA1</th>\n",
       "      <th>EXPEL1</th>\n",
       "      <th>FAMCONCT</th>\n",
       "      <th>PARACTV</th>\n",
       "      <th>PARPRES</th>\n",
       "    </tr>\n",
       "  </thead>\n",
       "  <tbody>\n",
       "    <tr>\n",
       "      <th>1</th>\n",
       "      <td>2.0</td>\n",
       "      <td>19.427397</td>\n",
       "      <td>1.0</td>\n",
       "      <td>1.0</td>\n",
       "      <td>1</td>\n",
       "      <td>0</td>\n",
       "      <td>0</td>\n",
       "      <td>0</td>\n",
       "      <td>1.0</td>\n",
       "      <td>17.0</td>\n",
       "      <td>35.0</td>\n",
       "      <td>1.0</td>\n",
       "      <td>0</td>\n",
       "      <td>5.0</td>\n",
       "      <td>22.0</td>\n",
       "      <td>2.333333</td>\n",
       "      <td>0.0</td>\n",
       "      <td>23.3</td>\n",
       "      <td>9.0</td>\n",
       "      <td>15.0</td>\n",
       "    </tr>\n",
       "    <tr>\n",
       "      <th>3</th>\n",
       "      <td>1.0</td>\n",
       "      <td>20.430137</td>\n",
       "      <td>1.0</td>\n",
       "      <td>0.0</td>\n",
       "      <td>0</td>\n",
       "      <td>1</td>\n",
       "      <td>1</td>\n",
       "      <td>1</td>\n",
       "      <td>1.0</td>\n",
       "      <td>19.0</td>\n",
       "      <td>47.0</td>\n",
       "      <td>4.0</td>\n",
       "      <td>1</td>\n",
       "      <td>4.0</td>\n",
       "      <td>19.0</td>\n",
       "      <td>2.000000</td>\n",
       "      <td>0.0</td>\n",
       "      <td>18.7</td>\n",
       "      <td>6.0</td>\n",
       "      <td>14.0</td>\n",
       "    </tr>\n",
       "    <tr>\n",
       "      <th>5</th>\n",
       "      <td>1.0</td>\n",
       "      <td>14.509589</td>\n",
       "      <td>0.0</td>\n",
       "      <td>0.0</td>\n",
       "      <td>0</td>\n",
       "      <td>0</td>\n",
       "      <td>0</td>\n",
       "      <td>0</td>\n",
       "      <td>0.0</td>\n",
       "      <td>8.0</td>\n",
       "      <td>41.0</td>\n",
       "      <td>3.0</td>\n",
       "      <td>0</td>\n",
       "      <td>0.0</td>\n",
       "      <td>27.0</td>\n",
       "      <td>2.666667</td>\n",
       "      <td>0.0</td>\n",
       "      <td>23.7</td>\n",
       "      <td>3.0</td>\n",
       "      <td>13.0</td>\n",
       "    </tr>\n",
       "    <tr>\n",
       "      <th>6</th>\n",
       "      <td>1.0</td>\n",
       "      <td>13.676712</td>\n",
       "      <td>0.0</td>\n",
       "      <td>0.0</td>\n",
       "      <td>0</td>\n",
       "      <td>0</td>\n",
       "      <td>0</td>\n",
       "      <td>0</td>\n",
       "      <td>1.0</td>\n",
       "      <td>4.0</td>\n",
       "      <td>42.0</td>\n",
       "      <td>5.0</td>\n",
       "      <td>0</td>\n",
       "      <td>7.0</td>\n",
       "      <td>18.0</td>\n",
       "      <td>2.500000</td>\n",
       "      <td>0.0</td>\n",
       "      <td>24.7</td>\n",
       "      <td>6.0</td>\n",
       "      <td>13.0</td>\n",
       "    </tr>\n",
       "    <tr>\n",
       "      <th>7</th>\n",
       "      <td>1.0</td>\n",
       "      <td>15.178082</td>\n",
       "      <td>1.0</td>\n",
       "      <td>1.0</td>\n",
       "      <td>0</td>\n",
       "      <td>1</td>\n",
       "      <td>0</td>\n",
       "      <td>0</td>\n",
       "      <td>1.0</td>\n",
       "      <td>4.0</td>\n",
       "      <td>40.0</td>\n",
       "      <td>8.0</td>\n",
       "      <td>1</td>\n",
       "      <td>6.0</td>\n",
       "      <td>20.0</td>\n",
       "      <td>1.500000</td>\n",
       "      <td>0.0</td>\n",
       "      <td>22.3</td>\n",
       "      <td>10.0</td>\n",
       "      <td>14.0</td>\n",
       "    </tr>\n",
       "  </tbody>\n",
       "</table>\n",
       "</div>"
      ],
      "text/plain": [
       "   BIO_SEX        AGE  TREG1  ALCEVR1  ALCPROBS1  MAREVER1  COCEVER1  \\\n",
       "1      2.0  19.427397    1.0      1.0          1         0         0   \n",
       "3      1.0  20.430137    1.0      0.0          0         1         1   \n",
       "5      1.0  14.509589    0.0      0.0          0         0         0   \n",
       "6      1.0  13.676712    0.0      0.0          0         0         0   \n",
       "7      1.0  15.178082    1.0      1.0          0         1         0   \n",
       "\n",
       "   INHEVER1  CIGAVAIL  DEP1  ESTEEM1  VIOL1  PASSIST  DEVIANT1  SCHCONN1  \\\n",
       "1         0       1.0  17.0     35.0    1.0        0       5.0      22.0   \n",
       "3         1       1.0  19.0     47.0    4.0        1       4.0      19.0   \n",
       "5         0       0.0   8.0     41.0    3.0        0       0.0      27.0   \n",
       "6         0       1.0   4.0     42.0    5.0        0       7.0      18.0   \n",
       "7         0       1.0   4.0     40.0    8.0        1       6.0      20.0   \n",
       "\n",
       "       GPA1  EXPEL1  FAMCONCT  PARACTV  PARPRES  \n",
       "1  2.333333     0.0      23.3      9.0     15.0  \n",
       "3  2.000000     0.0      18.7      6.0     14.0  \n",
       "5  2.666667     0.0      23.7      3.0     13.0  \n",
       "6  2.500000     0.0      24.7      6.0     13.0  \n",
       "7  1.500000     0.0      22.3     10.0     14.0  "
      ]
     },
     "execution_count": 5,
     "metadata": {},
     "output_type": "execute_result"
    }
   ],
   "source": [
    "# we will drop the NAN values with \n",
    "\n",
    "data.columns = map(str.upper, data.columns)\n",
    "\n",
    "data = data.dropna()\n",
    "\n",
    "data.head()     # changes the data memory usage"
   ]
  },
  {
   "cell_type": "code",
   "execution_count": 6,
   "metadata": {},
   "outputs": [],
   "source": [
    "from sklearn.model_selection import train_test_split\n",
    "from sklearn.cluster import KMeans\n",
    "from sklearn import preprocessing"
   ]
  },
  {
   "cell_type": "code",
   "execution_count": 7,
   "metadata": {},
   "outputs": [
    {
     "data": {
      "text/html": [
       "<div>\n",
       "<style scoped>\n",
       "    .dataframe tbody tr th:only-of-type {\n",
       "        vertical-align: middle;\n",
       "    }\n",
       "\n",
       "    .dataframe tbody tr th {\n",
       "        vertical-align: top;\n",
       "    }\n",
       "\n",
       "    .dataframe thead th {\n",
       "        text-align: right;\n",
       "    }\n",
       "</style>\n",
       "<table border=\"1\" class=\"dataframe\">\n",
       "  <thead>\n",
       "    <tr style=\"text-align: right;\">\n",
       "      <th></th>\n",
       "      <th>ALCEVR1</th>\n",
       "      <th>MAREVER1</th>\n",
       "      <th>ALCPROBS1</th>\n",
       "      <th>DEVIANT1</th>\n",
       "      <th>COCEVER1</th>\n",
       "      <th>VIOL1</th>\n",
       "      <th>DEP1</th>\n",
       "      <th>ESTEEM1</th>\n",
       "      <th>SCHCONN1</th>\n",
       "      <th>PARACTV</th>\n",
       "      <th>PARPRES</th>\n",
       "      <th>FAMCONCT</th>\n",
       "    </tr>\n",
       "  </thead>\n",
       "  <tbody>\n",
       "    <tr>\n",
       "      <th>1</th>\n",
       "      <td>1.0</td>\n",
       "      <td>0</td>\n",
       "      <td>1</td>\n",
       "      <td>5.0</td>\n",
       "      <td>0</td>\n",
       "      <td>1.0</td>\n",
       "      <td>17.0</td>\n",
       "      <td>35.0</td>\n",
       "      <td>22.0</td>\n",
       "      <td>9.0</td>\n",
       "      <td>15.0</td>\n",
       "      <td>23.3</td>\n",
       "    </tr>\n",
       "    <tr>\n",
       "      <th>3</th>\n",
       "      <td>0.0</td>\n",
       "      <td>1</td>\n",
       "      <td>0</td>\n",
       "      <td>4.0</td>\n",
       "      <td>1</td>\n",
       "      <td>4.0</td>\n",
       "      <td>19.0</td>\n",
       "      <td>47.0</td>\n",
       "      <td>19.0</td>\n",
       "      <td>6.0</td>\n",
       "      <td>14.0</td>\n",
       "      <td>18.7</td>\n",
       "    </tr>\n",
       "    <tr>\n",
       "      <th>5</th>\n",
       "      <td>0.0</td>\n",
       "      <td>0</td>\n",
       "      <td>0</td>\n",
       "      <td>0.0</td>\n",
       "      <td>0</td>\n",
       "      <td>3.0</td>\n",
       "      <td>8.0</td>\n",
       "      <td>41.0</td>\n",
       "      <td>27.0</td>\n",
       "      <td>3.0</td>\n",
       "      <td>13.0</td>\n",
       "      <td>23.7</td>\n",
       "    </tr>\n",
       "    <tr>\n",
       "      <th>6</th>\n",
       "      <td>0.0</td>\n",
       "      <td>0</td>\n",
       "      <td>0</td>\n",
       "      <td>7.0</td>\n",
       "      <td>0</td>\n",
       "      <td>5.0</td>\n",
       "      <td>4.0</td>\n",
       "      <td>42.0</td>\n",
       "      <td>18.0</td>\n",
       "      <td>6.0</td>\n",
       "      <td>13.0</td>\n",
       "      <td>24.7</td>\n",
       "    </tr>\n",
       "    <tr>\n",
       "      <th>7</th>\n",
       "      <td>1.0</td>\n",
       "      <td>1</td>\n",
       "      <td>0</td>\n",
       "      <td>6.0</td>\n",
       "      <td>0</td>\n",
       "      <td>8.0</td>\n",
       "      <td>4.0</td>\n",
       "      <td>40.0</td>\n",
       "      <td>20.0</td>\n",
       "      <td>10.0</td>\n",
       "      <td>14.0</td>\n",
       "      <td>22.3</td>\n",
       "    </tr>\n",
       "  </tbody>\n",
       "</table>\n",
       "</div>"
      ],
      "text/plain": [
       "   ALCEVR1  MAREVER1  ALCPROBS1  DEVIANT1  COCEVER1  VIOL1  DEP1  ESTEEM1  \\\n",
       "1      1.0         0          1       5.0         0    1.0  17.0     35.0   \n",
       "3      0.0         1          0       4.0         1    4.0  19.0     47.0   \n",
       "5      0.0         0          0       0.0         0    3.0   8.0     41.0   \n",
       "6      0.0         0          0       7.0         0    5.0   4.0     42.0   \n",
       "7      1.0         1          0       6.0         0    8.0   4.0     40.0   \n",
       "\n",
       "   SCHCONN1  PARACTV  PARPRES  FAMCONCT  \n",
       "1      22.0      9.0     15.0      23.3  \n",
       "3      19.0      6.0     14.0      18.7  \n",
       "5      27.0      3.0     13.0      23.7  \n",
       "6      18.0      6.0     13.0      24.7  \n",
       "7      20.0     10.0     14.0      22.3  "
      ]
     },
     "execution_count": 7,
     "metadata": {},
     "output_type": "execute_result"
    }
   ],
   "source": [
    "cluster = data[['ALCEVR1','MAREVER1','ALCPROBS1','DEVIANT1','COCEVER1',\\\n",
    "                'VIOL1','DEP1', 'ESTEEM1', 'SCHCONN1','PARACTV', 'PARPRES', 'FAMCONCT']]\n",
    "\n",
    "cluster.head()"
   ]
  },
  {
   "cell_type": "code",
   "execution_count": 8,
   "metadata": {},
   "outputs": [
    {
     "data": {
      "text/html": [
       "<div>\n",
       "<style scoped>\n",
       "    .dataframe tbody tr th:only-of-type {\n",
       "        vertical-align: middle;\n",
       "    }\n",
       "\n",
       "    .dataframe tbody tr th {\n",
       "        vertical-align: top;\n",
       "    }\n",
       "\n",
       "    .dataframe thead th {\n",
       "        text-align: right;\n",
       "    }\n",
       "</style>\n",
       "<table border=\"1\" class=\"dataframe\">\n",
       "  <thead>\n",
       "    <tr style=\"text-align: right;\">\n",
       "      <th></th>\n",
       "      <th>ALCEVR1</th>\n",
       "      <th>MAREVER1</th>\n",
       "      <th>ALCPROBS1</th>\n",
       "      <th>DEVIANT1</th>\n",
       "      <th>COCEVER1</th>\n",
       "      <th>VIOL1</th>\n",
       "      <th>DEP1</th>\n",
       "      <th>ESTEEM1</th>\n",
       "      <th>SCHCONN1</th>\n",
       "      <th>PARACTV</th>\n",
       "      <th>PARPRES</th>\n",
       "      <th>FAMCONCT</th>\n",
       "    </tr>\n",
       "  </thead>\n",
       "  <tbody>\n",
       "    <tr>\n",
       "      <th>1</th>\n",
       "      <td>0.947683</td>\n",
       "      <td>-0.564215</td>\n",
       "      <td>0.707020</td>\n",
       "      <td>0.670775</td>\n",
       "      <td>-0.184838</td>\n",
       "      <td>-0.238134</td>\n",
       "      <td>1.286259</td>\n",
       "      <td>-1.104733</td>\n",
       "      <td>-1.230181</td>\n",
       "      <td>0.806442</td>\n",
       "      <td>0.766295</td>\n",
       "      <td>0.277586</td>\n",
       "    </tr>\n",
       "    <tr>\n",
       "      <th>3</th>\n",
       "      <td>-1.055206</td>\n",
       "      <td>1.772375</td>\n",
       "      <td>-0.412003</td>\n",
       "      <td>0.386277</td>\n",
       "      <td>5.410151</td>\n",
       "      <td>0.919248</td>\n",
       "      <td>1.590171</td>\n",
       "      <td>1.122320</td>\n",
       "      <td>-1.811019</td>\n",
       "      <td>-0.085920</td>\n",
       "      <td>0.287126</td>\n",
       "      <td>-1.484243</td>\n",
       "    </tr>\n",
       "    <tr>\n",
       "      <th>5</th>\n",
       "      <td>-1.055206</td>\n",
       "      <td>-0.564215</td>\n",
       "      <td>-0.412003</td>\n",
       "      <td>-0.751716</td>\n",
       "      <td>-0.184838</td>\n",
       "      <td>0.533454</td>\n",
       "      <td>-0.081345</td>\n",
       "      <td>0.008793</td>\n",
       "      <td>-0.262119</td>\n",
       "      <td>-0.978282</td>\n",
       "      <td>-0.192042</td>\n",
       "      <td>0.430788</td>\n",
       "    </tr>\n",
       "    <tr>\n",
       "      <th>6</th>\n",
       "      <td>-1.055206</td>\n",
       "      <td>-0.564215</td>\n",
       "      <td>-0.412003</td>\n",
       "      <td>1.239771</td>\n",
       "      <td>-0.184838</td>\n",
       "      <td>1.305042</td>\n",
       "      <td>-0.689169</td>\n",
       "      <td>0.194381</td>\n",
       "      <td>-2.004631</td>\n",
       "      <td>-0.085920</td>\n",
       "      <td>-0.192042</td>\n",
       "      <td>0.813795</td>\n",
       "    </tr>\n",
       "    <tr>\n",
       "      <th>7</th>\n",
       "      <td>0.947683</td>\n",
       "      <td>1.772375</td>\n",
       "      <td>-0.412003</td>\n",
       "      <td>0.955273</td>\n",
       "      <td>-0.184838</td>\n",
       "      <td>2.462425</td>\n",
       "      <td>-0.689169</td>\n",
       "      <td>-0.176794</td>\n",
       "      <td>-1.617406</td>\n",
       "      <td>1.103896</td>\n",
       "      <td>0.287126</td>\n",
       "      <td>-0.105420</td>\n",
       "    </tr>\n",
       "  </tbody>\n",
       "</table>\n",
       "</div>"
      ],
      "text/plain": [
       "    ALCEVR1  MAREVER1  ALCPROBS1  DEVIANT1  COCEVER1     VIOL1      DEP1  \\\n",
       "1  0.947683 -0.564215   0.707020  0.670775 -0.184838 -0.238134  1.286259   \n",
       "3 -1.055206  1.772375  -0.412003  0.386277  5.410151  0.919248  1.590171   \n",
       "5 -1.055206 -0.564215  -0.412003 -0.751716 -0.184838  0.533454 -0.081345   \n",
       "6 -1.055206 -0.564215  -0.412003  1.239771 -0.184838  1.305042 -0.689169   \n",
       "7  0.947683  1.772375  -0.412003  0.955273 -0.184838  2.462425 -0.689169   \n",
       "\n",
       "    ESTEEM1  SCHCONN1   PARACTV   PARPRES  FAMCONCT  \n",
       "1 -1.104733 -1.230181  0.806442  0.766295  0.277586  \n",
       "3  1.122320 -1.811019 -0.085920  0.287126 -1.484243  \n",
       "5  0.008793 -0.262119 -0.978282 -0.192042  0.430788  \n",
       "6  0.194381 -2.004631 -0.085920 -0.192042  0.813795  \n",
       "7 -0.176794 -1.617406  1.103896  0.287126 -0.105420  "
      ]
     },
     "execution_count": 8,
     "metadata": {},
     "output_type": "execute_result"
    }
   ],
   "source": [
    "# we have to standardize the distance calculation of the model \n",
    "# we standardize to mean = 0 and standard deviation = 1\n",
    "\n",
    "cluster_s = cluster.copy()\n",
    "\n",
    "# we take each of the feature (class name) and apply the scale method to get mean=0 and SD=1\n",
    "# we are now standardizing the clustering variables\n",
    "a=['ALCEVR1','MAREVER1','ALCPROBS1','DEVIANT1','COCEVER1',\\\n",
    "                'VIOL1','DEP1', 'ESTEEM1', 'SCHCONN1','PARACTV', 'PARPRES', 'FAMCONCT']\n",
    "for i, val in enumerate(a):\n",
    "    cluster_s[val] = preprocessing.scale(cluster_s[val].astype('float64'))\n",
    "\n",
    "cluster_s.head()"
   ]
  },
  {
   "cell_type": "markdown",
   "metadata": {},
   "source": [
    "\n",
    "# K Mean cluster Analysis\n",
    "we will calculate the average distance from the centroids and we will plot the average distance"
   ]
  },
  {
   "cell_type": "code",
   "execution_count": 9,
   "metadata": {},
   "outputs": [
    {
     "name": "stdout",
     "output_type": "stream",
     "text": [
      "(3220, 12) (1381, 12)\n"
     ]
    }
   ],
   "source": [
    "cluster_train, cluster_test = train_test_split(cluster_s,test_size=0.3, random_state = 222)\n",
    "\n",
    "print(cluster_train.shape, cluster_test.shape)"
   ]
  },
  {
   "cell_type": "code",
   "execution_count": 10,
   "metadata": {},
   "outputs": [],
   "source": [
    "from scipy.spatial.distance import cdist\n",
    "\n",
    "clusters = range(1,11)\n",
    "mean_dist =  []"
   ]
  },
  {
   "cell_type": "code",
   "execution_count": 11,
   "metadata": {},
   "outputs": [],
   "source": [
    "for k in clusters:\n",
    "    Model1 = KMeans(n_clusters = k)\n",
    "    Model1.fit(cluster_train)\n",
    "    \n",
    "    E_dist = cdist(cluster_train, Model1.cluster_centers_, 'euclidean')  # calculating the distance\n",
    "    min_dist = np.min(cdist(cluster_train, Model1.cluster_centers_, 'euclidean'), axis =1)  # calculate the minimum distance\n",
    "    mean_dist.append(sum(min_dist)/cluster_train.shape[0])\n",
    "\n",
    "# Model1.cluster_centers_ calculate the centroid"
   ]
  },
  {
   "cell_type": "code",
   "execution_count": 12,
   "metadata": {},
   "outputs": [
    {
     "data": {
      "image/png": "[encoded data removed]",
      "text/plain": [
       "<Figure size 432x288 with 1 Axes>"
      ]
     },
     "metadata": {
      "needs_background": "light"
     },
     "output_type": "display_data"
    }
   ],
   "source": [
    "# Elbow Curve => will give us the decrease in the average minimum distance\n",
    "\n",
    "plt.plot(clusters, mean_dist)\n",
    "plt.xlabel('Number of Clusters')\n",
    "plt.ylabel('Avg. Distance')\n",
    "plt.axis([1,10,2.2,3.2])\n",
    "plt.grid()"
   ]
  },
  {
   "cell_type": "markdown",
   "metadata": {},
   "source": [
    "The above shows that, as the number of clusters increase the average distance between the clusters decreases\n"
   ]
  },
  {
   "cell_type": "markdown",
   "metadata": {},
   "source": [
    "Then Bend appears when number of clusters is k = 2 & 4\n",
    "* We cannot show using Scatter plot, as we have 11 clusters => so it will be 11 dimensions\n",
    "* Therefore use Conanical Discriminate Analysis\n",
    "* PCA does this\n",
    "* \n",
    "* we will deploy this process for K=2 and K=3"
   ]
  },
  {
   "cell_type": "code",
   "execution_count": 13,
   "metadata": {},
   "outputs": [],
   "source": [
    "\n",
    "K=2  # 2 clusters solution"
   ]
  },
  {
   "cell_type": "code",
   "execution_count": 14,
   "metadata": {},
   "outputs": [],
   "source": [
    "from sklearn.decomposition import PCA"
   ]
  },
  {
   "cell_type": "code",
   "execution_count": 15,
   "metadata": {},
   "outputs": [
    {
     "data": {
      "text/plain": [
       "KMeans(algorithm='auto', copy_x=True, init='k-means++', max_iter=300,\n",
       "       n_clusters=3, n_init=10, n_jobs=None, precompute_distances='auto',\n",
       "       random_state=None, tol=0.0001, verbose=0)"
      ]
     },
     "execution_count": 15,
     "metadata": {},
     "output_type": "execute_result"
    }
   ],
   "source": [
    "# consider for K=2\n",
    "Model_1 = KMeans(n_clusters = 3)\n",
    "Model_1.fit(cluster_train)"
   ]
  },
  {
   "cell_type": "code",
   "execution_count": 16,
   "metadata": {},
   "outputs": [
    {
     "data": {
      "text/plain": [
       "PCA(copy=True, iterated_power='auto', n_components=2, random_state=None,\n",
       "    svd_solver='auto', tol=0.0, whiten=False)"
      ]
     },
     "execution_count": 16,
     "metadata": {},
     "output_type": "execute_result"
    }
   ],
   "source": [
    "pca_k2 = PCA(2) # it asks for only 2 canonical variables\n",
    "\n",
    "pca_k2"
   ]
  },
  {
   "cell_type": "code",
   "execution_count": 17,
   "metadata": {},
   "outputs": [
    {
     "data": {
      "text/plain": [
       "<matplotlib.collections.PathCollection at 0xa70a86cc>"
      ]
     },
     "execution_count": 17,
     "metadata": {},
     "output_type": "execute_result"
    },
    {
     "data": {
      "image/png": "[encoded data removed]",
      "text/plain": [
       "<Figure size 432x288 with 1 Axes>"
      ]
     },
     "metadata": {
      "needs_background": "light"
     },
     "output_type": "display_data"
    }
   ],
   "source": [
    "plot_col = pca_k2.fit_transform(cluster_train)\n",
    "plt.scatter(x = plot_col[:,0], y = plot_col[:,1], c=Model_1.labels_)\n",
    "\n",
    "# Model_K2.labels_ => tells to color code the clusters"
   ]
  },
  {
   "cell_type": "code",
   "execution_count": 18,
   "metadata": {},
   "outputs": [],
   "source": [
    "# it shows that, between the clusters we can say that, the clusters are highly related"
   ]
  },
  {
   "cell_type": "code",
   "execution_count": null,
   "metadata": {},
   "outputs": [],
   "source": []
  },
  {
   "cell_type": "code",
   "execution_count": null,
   "metadata": {},
   "outputs": [],
   "source": []
  },
  {
   "cell_type": "code",
   "execution_count": null,
   "metadata": {},
   "outputs": [],
   "source": []
  },
  {
   "cell_type": "code",
   "execution_count": null,
   "metadata": {},
   "outputs": [],
   "source": []
  },
  {
   "cell_type": "code",
   "execution_count": null,
   "metadata": {},
   "outputs": [],
   "source": []
  },
  {
   "cell_type": "code",
   "execution_count": null,
   "metadata": {},
   "outputs": [],
   "source": []
  },
  {
   "cell_type": "code",
   "execution_count": null,
   "metadata": {},
   "outputs": [],
   "source": []
  },
  {
   "cell_type": "code",
   "execution_count": null,
   "metadata": {},
   "outputs": [],
   "source": []
  },
  {
   "cell_type": "code",
   "execution_count": null,
   "metadata": {},
   "outputs": [],
   "source": []
  },
  {
   "cell_type": "code",
   "execution_count": null,
   "metadata": {},
   "outputs": [],
   "source": []
  },
  {
   "cell_type": "code",
   "execution_count": null,
   "metadata": {},
   "outputs": [],
   "source": []
  },
  {
   "cell_type": "code",
   "execution_count": null,
   "metadata": {},
   "outputs": [],
   "source": []
  },
  {
   "cell_type": "code",
   "execution_count": null,
   "metadata": {},
   "outputs": [],
   "source": []
  },
  {
   "cell_type": "code",
   "execution_count": null,
   "metadata": {},
   "outputs": [],
   "source": []
  },
  {
   "cell_type": "code",
   "execution_count": null,
   "metadata": {},
   "outputs": [],
   "source": []
  },
  {
   "cell_type": "code",
   "execution_count": null,
   "metadata": {},
   "outputs": [],
   "source": []
  },
  {
   "cell_type": "code",
   "execution_count": null,
   "metadata": {},
   "outputs": [],
   "source": []
  },
  {
   "cell_type": "code",
   "execution_count": null,
   "metadata": {},
   "outputs": [],
   "source": []
  },
  {
   "cell_type": "code",
   "execution_count": null,
   "metadata": {},
   "outputs": [],
   "source": []
  },
  {
   "cell_type": "code",
   "execution_count": null,
   "metadata": {},
   "outputs": [],
   "source": []
  },
  {
   "cell_type": "code",
   "execution_count": null,
   "metadata": {},
   "outputs": [],
   "source": []
  },
  {
   "cell_type": "code",
   "execution_count": null,
   "metadata": {},
   "outputs": [],
   "source": []
  },
  {
   "cell_type": "code",
   "execution_count": null,
   "metadata": {},
   "outputs": [],
   "source": []
  },
  {
   "cell_type": "code",
   "execution_count": null,
   "metadata": {},
   "outputs": [],
   "source": []
  },
  {
   "cell_type": "code",
   "execution_count": null,
   "metadata": {},
   "outputs": [],
   "source": []
  },
  {
   "cell_type": "code",
   "execution_count": null,
   "metadata": {},
   "outputs": [],
   "source": []
  },
  {
   "cell_type": "code",
   "execution_count": null,
   "metadata": {},
   "outputs": [],
   "source": []
  },
  {
   "cell_type": "code",
   "execution_count": null,
   "metadata": {},
   "outputs": [],
   "source": []
  },
  {
   "cell_type": "code",
   "execution_count": null,
   "metadata": {},
   "outputs": [],
   "source": []
  }
 ],
 "metadata": {
  "kernelspec": {
   "display_name": "Python 3",
   "language": "python",
   "name": "python3"
  },
  "language_info": {
   "codemirror_mode": {
    "name": "ipython",
    "version": 3
   },
   "file_extension": ".py",
   "mimetype": "text/x-python",
   "name": "python",
   "nbconvert_exporter": "python",
   "pygments_lexer": "ipython3",
   "version": "3.7.1"
  }
 },
 "nbformat": 4,
 "nbformat_minor": 2
}
